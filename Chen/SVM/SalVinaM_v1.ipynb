{
 "cells": [
  {
   "cell_type": "code",
   "execution_count": 1,
   "id": "9b0d4977",
   "metadata": {},
   "outputs": [
    {
     "ename": "NameError",
     "evalue": "name 'data_cleaned' is not defined",
     "output_type": "error",
     "traceback": [
      "\u001b[1;31m---------------------------------------------------------------------------\u001b[0m",
      "\u001b[1;31mNameError\u001b[0m                                 Traceback (most recent call last)",
      "Cell \u001b[1;32mIn[1], line 16\u001b[0m\n\u001b[0;32m     13\u001b[0m le_ftr \u001b[38;5;241m=\u001b[39m LabelEncoder()\n\u001b[0;32m     15\u001b[0m \u001b[38;5;66;03m# Combine unique teams for consistent encoding\u001b[39;00m\n\u001b[1;32m---> 16\u001b[0m unique_teams \u001b[38;5;241m=\u001b[39m pd\u001b[38;5;241m.\u001b[39mconcat([data_cleaned[\u001b[38;5;124m'\u001b[39m\u001b[38;5;124mHomeTeam\u001b[39m\u001b[38;5;124m'\u001b[39m], data_cleaned[\u001b[38;5;124m'\u001b[39m\u001b[38;5;124mAwayTeam\u001b[39m\u001b[38;5;124m'\u001b[39m]])\u001b[38;5;241m.\u001b[39munique()\n\u001b[0;32m     17\u001b[0m le_team\u001b[38;5;241m.\u001b[39mfit(unique_teams)\n\u001b[0;32m     19\u001b[0m \u001b[38;5;66;03m# Apply encoding\u001b[39;00m\n",
      "\u001b[1;31mNameError\u001b[0m: name 'data_cleaned' is not defined"
     ]
    }
   ],
   "source": [
    "from sklearn.svm import SVC\n",
    "from sklearn.preprocessing import StandardScaler, LabelEncoder\n",
    "from sklearn.model_selection import train_test_split\n",
    "from sklearn.metrics import classification_report, accuracy_score\n",
    "import pandas as pd\n",
    "\n",
    "# Load dataset (replace 'file_path' with actual file path)\n",
    "file_path = 'epl-training_basic.csv'\n",
    "data = pd.read_csv(file_path)\n",
    "\n",
    "# Encode categorical variables\n",
    "le_team = LabelEncoder()\n",
    "le_ftr = LabelEncoder()\n",
    "\n",
    "# Combine unique teams for consistent encoding\n",
    "unique_teams = pd.concat([data_cleaned['HomeTeam'], data_cleaned['AwayTeam']]).unique()\n",
    "le_team.fit(unique_teams)\n",
    "\n",
    "# Apply encoding\n",
    "data_cleaned['HomeTeam'] = le_team.transform(data_cleaned['HomeTeam'])\n",
    "data_cleaned['AwayTeam'] = le_team.transform(data_cleaned['AwayTeam'])\n",
    "data_cleaned['FTR'] = le_ftr.fit_transform(data_cleaned['FTR'])\n",
    "\n",
    "# Define features (X) and target (y)\n",
    "X = data_cleaned[['HomeTeam', 'AwayTeam']].values\n",
    "y = data_cleaned['FTR'].values\n",
    "\n",
    "# Split into train and test sets\n",
    "X_train, X_test, y_train, y_test = train_test_split(X, y, test_size=0.2, random_state=42)\n",
    "\n",
    "# Scale the features\n",
    "scaler = StandardScaler()\n",
    "X_train = scaler.fit_transform(X_train)\n",
    "X_test = scaler.transform(X_test)\n",
    "\n",
    "# Train the SVM model\n",
    "model = SVC(kernel='rbf', C=1, gamma='scale')\n",
    "model.fit(X_train, y_train)\n",
    "\n",
    "# Predictions\n",
    "y_pred = model.predict(X_test)\n",
    "\n",
    "# Evaluate the model\n",
    "print(\"Classification Report:\")\n",
    "print(classification_report(y_test, y_pred))\n",
    "print(\"Accuracy:\", accuracy_score(y_test, y_pred))\n",
    "\n",
    "# Example prediction for new input\n",
    "new_input = [[le_team.transform(['Arsenal'])[0], le_team.transform(['Chelsea'])[0]]]  # Replace with actual teams\n",
    "new_input_scaled = scaler.transform(new_input)\n",
    "prediction = le_ftr.inverse_transform(model.predict(new_input_scaled))\n",
    "print(f\"Prediction for Arsenal vs Chelsea: {prediction[0]}\")\n",
    "\n"
   ]
  },
  {
   "cell_type": "code",
   "execution_count": null,
   "id": "233bafa7",
   "metadata": {},
   "outputs": [],
   "source": []
  },
  {
   "cell_type": "code",
   "execution_count": null,
   "id": "3927c513",
   "metadata": {},
   "outputs": [],
   "source": []
  }
 ],
 "metadata": {
  "kernelspec": {
   "display_name": "ucl_cs_ml_module",
   "language": "python",
   "name": "python3"
  },
  "language_info": {
   "codemirror_mode": {
    "name": "ipython",
    "version": 3
   },
   "file_extension": ".py",
   "mimetype": "text/x-python",
   "name": "python",
   "nbconvert_exporter": "python",
   "pygments_lexer": "ipython3",
   "version": "3.11.5"
  }
 },
 "nbformat": 4,
 "nbformat_minor": 5
}
